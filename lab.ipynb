{
 "cells": [
  {
   "cell_type": "code",
   "execution_count": 1,
   "metadata": {},
   "outputs": [],
   "source": [
    "import pandas as pd\n",
    "import numpy as np\n",
    "import lightgbm as lgb\n",
    "from sklearn.model_selection import train_test_split\n",
    "from sklearn.metrics import roc_auc_score\n",
    "from sklearn.model_selection import GridSearchCV,StratifiedKFold"
   ]
  },
  {
   "cell_type": "code",
   "execution_count": 2,
   "metadata": {},
   "outputs": [],
   "source": [
    "path = \"./data/\""
   ]
  },
  {
   "cell_type": "code",
   "execution_count": 3,
   "metadata": {},
   "outputs": [],
   "source": [
    "user_info_path = \"user_info_format1.csv\"\n",
    "user_actions_path = \"user_log_format1.csv\"\n",
    "train_path = \"train_format1.csv\"\n",
    "submit_path = \"test_format1.csv\""
   ]
  },
  {
   "cell_type": "code",
   "execution_count": 13,
   "metadata": {},
   "outputs": [],
   "source": [
    "user_info = pd.read_csv(path + user_info_path)\n",
    "userXmerchant_with_label = pd.read_csv(path + train_path)\n",
    "user_actions = pd.read_csv(path + user_actions_path)\n",
    "userXmerchant_for_submit = pd.read_csv(path + submit_path)"
   ]
  },
  {
   "cell_type": "code",
   "execution_count": 28,
   "metadata": {},
   "outputs": [],
   "source": [
    "userXmerchant = pd.concat([userXmerchant_with_label,userXmerchant_for_submit])\n",
    "userXmerchant[\"label\"].fillna(-1,inplace=True)"
   ]
  },
  {
   "cell_type": "code",
   "execution_count": 14,
   "metadata": {},
   "outputs": [],
   "source": [
    "user_actions.rename(columns={\"seller_id\":\"merchant_id\"},inplace=True)"
   ]
  },
  {
   "cell_type": "code",
   "execution_count": 29,
   "metadata": {},
   "outputs": [],
   "source": [
    "user_actions_with_label = pd.merge(user_actions,userXmerchant,on=[\"user_id\",\"merchant_id\"],how=\"inner\")\n",
    "#user_actions_for_submit = pd.merge(user_actions,userXmerchant_for_submit,on=[\"user_id\",\"merchant_id\"],how=\"inner\")"
   ]
  },
  {
   "cell_type": "code",
   "execution_count": 84,
   "metadata": {},
   "outputs": [
    {
     "data": {
      "text/html": [
       "<div>\n",
       "<style scoped>\n",
       "    .dataframe tbody tr th:only-of-type {\n",
       "        vertical-align: middle;\n",
       "    }\n",
       "\n",
       "    .dataframe tbody tr th {\n",
       "        vertical-align: top;\n",
       "    }\n",
       "\n",
       "    .dataframe thead th {\n",
       "        text-align: right;\n",
       "    }\n",
       "</style>\n",
       "<table border=\"1\" class=\"dataframe\">\n",
       "  <thead>\n",
       "    <tr style=\"text-align: right;\">\n",
       "      <th></th>\n",
       "      <th>user_id</th>\n",
       "    </tr>\n",
       "  </thead>\n",
       "  <tbody>\n",
       "    <tr>\n",
       "      <th>0</th>\n",
       "      <td>34176</td>\n",
       "    </tr>\n",
       "    <tr>\n",
       "      <th>4</th>\n",
       "      <td>230784</td>\n",
       "    </tr>\n",
       "    <tr>\n",
       "      <th>5</th>\n",
       "      <td>362112</td>\n",
       "    </tr>\n",
       "    <tr>\n",
       "      <th>6</th>\n",
       "      <td>34944</td>\n",
       "    </tr>\n",
       "    <tr>\n",
       "      <th>7</th>\n",
       "      <td>231552</td>\n",
       "    </tr>\n",
       "    <tr>\n",
       "      <th>...</th>\n",
       "      <td>...</td>\n",
       "    </tr>\n",
       "    <tr>\n",
       "      <th>261468</th>\n",
       "      <td>292991</td>\n",
       "    </tr>\n",
       "    <tr>\n",
       "      <th>261469</th>\n",
       "      <td>293759</td>\n",
       "    </tr>\n",
       "    <tr>\n",
       "      <th>261471</th>\n",
       "      <td>228479</td>\n",
       "    </tr>\n",
       "    <tr>\n",
       "      <th>261473</th>\n",
       "      <td>97919</td>\n",
       "    </tr>\n",
       "    <tr>\n",
       "      <th>261475</th>\n",
       "      <td>32639</td>\n",
       "    </tr>\n",
       "  </tbody>\n",
       "</table>\n",
       "<p>424170 rows × 1 columns</p>\n",
       "</div>"
      ],
      "text/plain": [
       "        user_id\n",
       "0         34176\n",
       "4        230784\n",
       "5        362112\n",
       "6         34944\n",
       "7        231552\n",
       "...         ...\n",
       "261468   292991\n",
       "261469   293759\n",
       "261471   228479\n",
       "261473    97919\n",
       "261475    32639\n",
       "\n",
       "[424170 rows x 1 columns]"
      ]
     },
     "execution_count": 84,
     "metadata": {},
     "output_type": "execute_result"
    }
   ],
   "source": [
    "userXmerchant[[\"user_id\"]].drop_duplicates(subset=[\"user_id\"])"
   ]
  },
  {
   "cell_type": "markdown",
   "metadata": {},
   "source": [
    "# baseline"
   ]
  },
  {
   "cell_type": "markdown",
   "metadata": {},
   "source": [
    "- 合并特征和标签"
   ]
  },
  {
   "cell_type": "code",
   "execution_count": 30,
   "metadata": {},
   "outputs": [],
   "source": [
    "featureAndlabel = pd.merge(userXmerchant,user_info,on=\"user_id\",how=\"left\")\n",
    "# submit_feature = pd.merge(userXmerchant_for_submit,user_info,on=\"user_id\",how=\"left\")"
   ]
  },
  {
   "cell_type": "markdown",
   "metadata": {},
   "source": [
    "- 切分训练集和验证集"
   ]
  },
  {
   "cell_type": "code",
   "execution_count": 31,
   "metadata": {},
   "outputs": [],
   "source": [
    "# 切分训练集和验证集\n",
    "train_y = featureAndlabel.loc[featureAndlabel.label != -1,[\"label\"]]\n",
    "train_X = train_featureAndlabel.loc[featureAndlabel.label != -1,[\"age_range\",\"gender\"]]\n",
    "train_X,test_X,train_y,test_y = train_test_split(train_X, train_y, test_size = 0.3, stratify = train_y)\n",
    "# test_X = test[[\"age_range\",\"gender\"]].values"
   ]
  },
  {
   "cell_type": "markdown",
   "metadata": {},
   "source": [
    "- 模型训练"
   ]
  },
  {
   "cell_type": "code",
   "execution_count": 32,
   "metadata": {},
   "outputs": [
    {
     "name": "stderr",
     "output_type": "stream",
     "text": [
      "D:\\ProgramData\\Anaconda3\\lib\\site-packages\\sklearn\\preprocessing\\_label.py:235: DataConversionWarning: A column-vector y was passed when a 1d array was expected. Please change the shape of y to (n_samples, ), for example using ravel().\n",
      "  y = column_or_1d(y, warn=True)\n",
      "D:\\ProgramData\\Anaconda3\\lib\\site-packages\\sklearn\\preprocessing\\_label.py:268: DataConversionWarning: A column-vector y was passed when a 1d array was expected. Please change the shape of y to (n_samples, ), for example using ravel().\n",
      "  y = column_or_1d(y, warn=True)\n"
     ]
    },
    {
     "data": {
      "text/plain": [
       "LGBMClassifier(boosting_type='gbdt', class_weight=None, colsample_bytree=1.0,\n",
       "               importance_type='split', learning_rate=0.1, max_depth=-1,\n",
       "               min_child_samples=20, min_child_weight=0.001, min_split_gain=0.0,\n",
       "               n_estimators=100, n_jobs=-1, num_leaves=31, objective=None,\n",
       "               random_state=None, reg_alpha=0.0, reg_lambda=0.0, silent=True,\n",
       "               subsample=1.0, subsample_for_bin=200000, subsample_freq=0)"
      ]
     },
     "execution_count": 32,
     "metadata": {},
     "output_type": "execute_result"
    }
   ],
   "source": [
    "gbm = lgb.LGBMClassifier()\n",
    "gbm.fit(train_X,train_y)"
   ]
  },
  {
   "cell_type": "markdown",
   "metadata": {},
   "source": [
    "- 模型评估：auc"
   ]
  },
  {
   "cell_type": "code",
   "execution_count": 33,
   "metadata": {},
   "outputs": [
    {
     "data": {
      "text/plain": [
       "0.541558419515597"
      ]
     },
     "execution_count": 33,
     "metadata": {},
     "output_type": "execute_result"
    }
   ],
   "source": [
    "# 训练集效果\n",
    "roc_auc_score(train_y,gbm.predict_proba(train_X)[:,1])"
   ]
  },
  {
   "cell_type": "code",
   "execution_count": 34,
   "metadata": {},
   "outputs": [
    {
     "data": {
      "text/plain": [
       "0.5387576529824986"
      ]
     },
     "execution_count": 34,
     "metadata": {},
     "output_type": "execute_result"
    }
   ],
   "source": [
    "# 验证集效果\n",
    "roc_auc_score(test_y,gbm.predict_proba(test_X)[:,1])"
   ]
  },
  {
   "cell_type": "markdown",
   "metadata": {},
   "source": [
    "- 特征重要度"
   ]
  },
  {
   "cell_type": "code",
   "execution_count": 35,
   "metadata": {},
   "outputs": [
    {
     "data": {
      "text/plain": [
       "<matplotlib.axes._subplots.AxesSubplot at 0x1f28e67dfc8>"
      ]
     },
     "execution_count": 35,
     "metadata": {},
     "output_type": "execute_result"
    },
    {
     "data": {
      "image/png": "[encoded data removed]",
      "text/plain": [
       "<Figure size 432x288 with 1 Axes>"
      ]
     },
     "metadata": {
      "needs_background": "light"
     },
     "output_type": "display_data"
    }
   ],
   "source": [
    "feature_importances = gbm.feature_importances_\n",
    "feature_importances = pd.Series(feature_importances,index=train_X.columns)\n",
    "feature_importances.sort_values().plot(kind=\"bar\")"
   ]
  },
  {
   "cell_type": "markdown",
   "metadata": {},
   "source": [
    "- 产出预测结果"
   ]
  },
  {
   "cell_type": "code",
   "execution_count": 36,
   "metadata": {},
   "outputs": [
    {
     "name": "stderr",
     "output_type": "stream",
     "text": [
      "D:\\ProgramData\\Anaconda3\\lib\\site-packages\\ipykernel_launcher.py:3: SettingWithCopyWarning: \n",
      "A value is trying to be set on a copy of a slice from a DataFrame.\n",
      "Try using .loc[row_indexer,col_indexer] = value instead\n",
      "\n",
      "See the caveats in the documentation: https://pandas.pydata.org/pandas-docs/stable/user_guide/indexing.html#returning-a-view-versus-a-copy\n",
      "  This is separate from the ipykernel package so we can avoid doing imports until\n"
     ]
    }
   ],
   "source": [
    "submit_X = featureAndlabel.loc[featureAndlabel.label == -1,[\"age_range\",\"gender\"]].values\n",
    "res = submit_feature[[\"user_id\",\"merchant_id\"]]\n",
    "res[\"prob\"] = gbm.predict_proba(submit_X)[:,1]"
   ]
  },
  {
   "cell_type": "code",
   "execution_count": 37,
   "metadata": {},
   "outputs": [
    {
     "data": {
      "text/html": [
       "<div>\n",
       "<style scoped>\n",
       "    .dataframe tbody tr th:only-of-type {\n",
       "        vertical-align: middle;\n",
       "    }\n",
       "\n",
       "    .dataframe tbody tr th {\n",
       "        vertical-align: top;\n",
       "    }\n",
       "\n",
       "    .dataframe thead th {\n",
       "        text-align: right;\n",
       "    }\n",
       "</style>\n",
       "<table border=\"1\" class=\"dataframe\">\n",
       "  <thead>\n",
       "    <tr style=\"text-align: right;\">\n",
       "      <th></th>\n",
       "      <th>user_id</th>\n",
       "      <th>merchant_id</th>\n",
       "      <th>prob</th>\n",
       "    </tr>\n",
       "  </thead>\n",
       "  <tbody>\n",
       "    <tr>\n",
       "      <th>0</th>\n",
       "      <td>163968</td>\n",
       "      <td>4605</td>\n",
       "      <td>0.062872</td>\n",
       "    </tr>\n",
       "    <tr>\n",
       "      <th>1</th>\n",
       "      <td>360576</td>\n",
       "      <td>1581</td>\n",
       "      <td>0.028736</td>\n",
       "    </tr>\n",
       "    <tr>\n",
       "      <th>2</th>\n",
       "      <td>98688</td>\n",
       "      <td>1964</td>\n",
       "      <td>0.071955</td>\n",
       "    </tr>\n",
       "    <tr>\n",
       "      <th>3</th>\n",
       "      <td>98688</td>\n",
       "      <td>3645</td>\n",
       "      <td>0.071955</td>\n",
       "    </tr>\n",
       "    <tr>\n",
       "      <th>4</th>\n",
       "      <td>295296</td>\n",
       "      <td>3361</td>\n",
       "      <td>0.044726</td>\n",
       "    </tr>\n",
       "    <tr>\n",
       "      <th>...</th>\n",
       "      <td>...</td>\n",
       "      <td>...</td>\n",
       "      <td>...</td>\n",
       "    </tr>\n",
       "    <tr>\n",
       "      <th>261472</th>\n",
       "      <td>228479</td>\n",
       "      <td>3111</td>\n",
       "      <td>0.071955</td>\n",
       "    </tr>\n",
       "    <tr>\n",
       "      <th>261473</th>\n",
       "      <td>97919</td>\n",
       "      <td>2341</td>\n",
       "      <td>0.048683</td>\n",
       "    </tr>\n",
       "    <tr>\n",
       "      <th>261474</th>\n",
       "      <td>97919</td>\n",
       "      <td>3971</td>\n",
       "      <td>0.048683</td>\n",
       "    </tr>\n",
       "    <tr>\n",
       "      <th>261475</th>\n",
       "      <td>32639</td>\n",
       "      <td>3536</td>\n",
       "      <td>0.062872</td>\n",
       "    </tr>\n",
       "    <tr>\n",
       "      <th>261476</th>\n",
       "      <td>32639</td>\n",
       "      <td>3319</td>\n",
       "      <td>0.062872</td>\n",
       "    </tr>\n",
       "  </tbody>\n",
       "</table>\n",
       "<p>261477 rows × 3 columns</p>\n",
       "</div>"
      ],
      "text/plain": [
       "        user_id  merchant_id      prob\n",
       "0        163968         4605  0.062872\n",
       "1        360576         1581  0.028736\n",
       "2         98688         1964  0.071955\n",
       "3         98688         3645  0.071955\n",
       "4        295296         3361  0.044726\n",
       "...         ...          ...       ...\n",
       "261472   228479         3111  0.071955\n",
       "261473    97919         2341  0.048683\n",
       "261474    97919         3971  0.048683\n",
       "261475    32639         3536  0.062872\n",
       "261476    32639         3319  0.062872\n",
       "\n",
       "[261477 rows x 3 columns]"
      ]
     },
     "execution_count": 37,
     "metadata": {},
     "output_type": "execute_result"
    }
   ],
   "source": [
    "res"
   ]
  },
  {
   "cell_type": "code",
   "execution_count": 24,
   "metadata": {},
   "outputs": [],
   "source": [
    "res.to_csv(path + \"prediction.csv\")"
   ]
  },
  {
   "cell_type": "markdown",
   "metadata": {},
   "source": [
    "- 样本均衡"
   ]
  },
  {
   "cell_type": "code",
   "execution_count": 48,
   "metadata": {},
   "outputs": [
    {
     "data": {
      "text/html": [
       "<div>\n",
       "<style scoped>\n",
       "    .dataframe tbody tr th:only-of-type {\n",
       "        vertical-align: middle;\n",
       "    }\n",
       "\n",
       "    .dataframe tbody tr th {\n",
       "        vertical-align: top;\n",
       "    }\n",
       "\n",
       "    .dataframe thead th {\n",
       "        text-align: right;\n",
       "    }\n",
       "</style>\n",
       "<table border=\"1\" class=\"dataframe\">\n",
       "  <thead>\n",
       "    <tr style=\"text-align: right;\">\n",
       "      <th></th>\n",
       "      <th>gender</th>\n",
       "    </tr>\n",
       "    <tr>\n",
       "      <th>label</th>\n",
       "      <th></th>\n",
       "    </tr>\n",
       "  </thead>\n",
       "  <tbody>\n",
       "    <tr>\n",
       "      <th>0</th>\n",
       "      <td>241315</td>\n",
       "    </tr>\n",
       "    <tr>\n",
       "      <th>1</th>\n",
       "      <td>15838</td>\n",
       "    </tr>\n",
       "  </tbody>\n",
       "</table>\n",
       "</div>"
      ],
      "text/plain": [
       "       gender\n",
       "label        \n",
       "0      241315\n",
       "1       15838"
      ]
     },
     "execution_count": 48,
     "metadata": {},
     "output_type": "execute_result"
    }
   ],
   "source": [
    "train[[\"label\",\"gender\"]].groupby([\"label\"]).count()"
   ]
  },
  {
   "cell_type": "code",
   "execution_count": 82,
   "metadata": {},
   "outputs": [
    {
     "data": {
      "text/plain": [
       "15.236456623311025"
      ]
     },
     "execution_count": 82,
     "metadata": {},
     "output_type": "execute_result"
    }
   ],
   "source": [
    "241315/15838"
   ]
  },
  {
   "cell_type": "code",
   "execution_count": 52,
   "metadata": {},
   "outputs": [
    {
     "data": {
      "text/plain": [
       "<matplotlib.axes._subplots.AxesSubplot at 0x1b8061950c8>"
      ]
     },
     "execution_count": 52,
     "metadata": {},
     "output_type": "execute_result"
    },
    {
     "data": {
      "image/png": "[encoded data removed]",
      "text/plain": [
       "<Figure size 432x288 with 1 Axes>"
      ]
     },
     "metadata": {
      "needs_background": "light"
     },
     "output_type": "display_data"
    }
   ],
   "source": [
    "# 样本不均衡\n",
    "sns.barplot(y = train.label)"
   ]
  },
  {
   "cell_type": "code",
   "execution_count": 15,
   "metadata": {},
   "outputs": [
    {
     "data": {
      "text/plain": [
       "user_id        False\n",
       "item_id        False\n",
       "cat_id         False\n",
       "merchant_id    False\n",
       "brand_id        True\n",
       "time_stamp     False\n",
       "action_type    False\n",
       "label          False\n",
       "dtype: bool"
      ]
     },
     "execution_count": 15,
     "metadata": {},
     "output_type": "execute_result"
    }
   ],
   "source": [
    "user_actions_with_label.isnull().any()"
   ]
  },
  {
   "cell_type": "code",
   "execution_count": 16,
   "metadata": {},
   "outputs": [
    {
     "name": "stdout",
     "output_type": "stream",
     "text": [
      "<class 'pandas.core.frame.DataFrame'>\n",
      "Int64Index: 2824241 entries, 0 to 2824240\n",
      "Data columns (total 8 columns):\n",
      " #   Column       Dtype  \n",
      "---  ------       -----  \n",
      " 0   user_id      int64  \n",
      " 1   item_id      int64  \n",
      " 2   cat_id       int64  \n",
      " 3   merchant_id  int64  \n",
      " 4   brand_id     float64\n",
      " 5   time_stamp   int64  \n",
      " 6   action_type  int64  \n",
      " 7   label        int64  \n",
      "dtypes: float64(1), int64(7)\n",
      "memory usage: 193.9 MB\n"
     ]
    }
   ],
   "source": [
    "user_actions_with_label.info()"
   ]
  },
  {
   "cell_type": "markdown",
   "metadata": {},
   "source": [
    "# 特征工程"
   ]
  },
  {
   "cell_type": "markdown",
   "metadata": {},
   "source": [
    "## 用户侧特征"
   ]
  },
  {
   "cell_type": "markdown",
   "metadata": {},
   "source": [
    "- 用户行为计数特征"
   ]
  },
  {
   "cell_type": "code",
   "execution_count": 41,
   "metadata": {},
   "outputs": [],
   "source": [
    "# 用户行为计数特征\n",
    "user_actions_count = user_actions[[\"user_id\",\"action_type\"]].groupby([\"user_id\"]).count().reset_index()\n",
    "user_actions_count.rename(columns={\"action_type\":\"user_actions_count\"},inplace=True)\n",
    "featureAndlabel = pd.merge(featureAndlabel,user_actions_count,on=\"user_id\",how=\"left\")\n",
    "# submit_feature = pd.merge(submit_feature,user_actions_count,on=\"user_id\",how=\"left\")\n",
    "featureAndlabel[\"user_actions_count\"].fillna(0,inplace=True)\n",
    "# submit_feature[\"user_actions_count\"].fillna(0,inplace=True)"
   ]
  },
  {
   "cell_type": "code",
   "execution_count": 42,
   "metadata": {},
   "outputs": [],
   "source": [
    "# 用户各种行为计数\n",
    "# 0：点击 1：加购物车 2：购买 3：加收藏\n",
    "for i in [0, 1, 2, 3]:\n",
    "    temp = user_actions.loc[user_actions.action_type == i,[\"user_id\",\"action_type\"]].groupby([\"user_id\"]).count().reset_index()\n",
    "    temp.rename(columns={\"action_type\":\"user_action_type\" + str(i) + \"_count\"},inplace=True)\n",
    "    featureAndlabel = pd.merge(featureAndlabel,temp,on=\"user_id\",how=\"left\")\n",
    "    # submit_feature = pd.merge(featureAndlabel,temp,on=\"user_id\",how=\"left\")\n",
    "    featureAndlabel[\"user_action_type\" + str(i) + \"_count\"].fillna(0,inplace=True)"
   ]
  },
  {
   "cell_type": "code",
   "execution_count": 46,
   "metadata": {},
   "outputs": [],
   "source": [
    "# 非购买行为计数\n",
    "temp = user_actions.loc[user_actions.action_type != 2,[\"user_id\",\"action_type\"]].groupby([\"user_id\"]).count().reset_index()\n",
    "temp.rename(columns={\"action_type\":\"user_action_nopurchase_count\"},inplace=True)\n",
    "featureAndlabel = pd.merge(featureAndlabel,temp,on=\"user_id\",how=\"left\")\n",
    "featureAndlabel[\"user_action_nopurchase_count\"].fillna(0,inplace=True)"
   ]
  },
  {
   "cell_type": "markdown",
   "metadata": {},
   "source": [
    "- 用户购买行为比例"
   ]
  },
  {
   "cell_type": "code",
   "execution_count": 49,
   "metadata": {},
   "outputs": [],
   "source": [
    "# 用户购买行为比例\n",
    "featureAndlabel[\"user_purchase_rate\"] = featureAndlabel[\"user_action_type2_count\"]/featureAndlabel[\"user_actions_count\"]\n",
    "featureAndlabel[\"user_purchase_rate\"].fillna(0,inplace=True)"
   ]
  },
  {
   "cell_type": "markdown",
   "metadata": {},
   "source": [
    "- 用户有行为的店铺计数"
   ]
  },
  {
   "cell_type": "code",
   "execution_count": 51,
   "metadata": {},
   "outputs": [],
   "source": [
    "user_merchant_count = user_actions[[\"user_id\",\"merchant_id\"]].drop_duplicates(subset=[\"user_id\",\"merchant_id\"]).groupby([\"user_id\"]).count().reset_index()\n",
    "user_merchant_count.rename(columns={\"merchant_id\":\"user_merchant_count\"},inplace=True)\n",
    "featureAndlabel = pd.merge(featureAndlabel,user_merchant_count,on=\"user_id\",how=\"left\")\n",
    "featureAndlabel[\"user_merchant_count\"].fillna(0,inplace=True)"
   ]
  },
  {
   "cell_type": "markdown",
   "metadata": {},
   "source": [
    "## 用户x商家特征"
   ]
  },
  {
   "cell_type": "markdown",
   "metadata": {},
   "source": [
    "- 用户x店铺的行为计数特征"
   ]
  },
  {
   "cell_type": "code",
   "execution_count": 52,
   "metadata": {},
   "outputs": [
    {
     "name": "stdout",
     "output_type": "stream",
     "text": [
      "<class 'pandas.core.frame.DataFrame'>\n",
      "Int64Index: 5662515 entries, 0 to 5662514\n",
      "Data columns (total 9 columns):\n",
      " #   Column       Dtype  \n",
      "---  ------       -----  \n",
      " 0   user_id      int64  \n",
      " 1   item_id      int64  \n",
      " 2   cat_id       int64  \n",
      " 3   merchant_id  int64  \n",
      " 4   brand_id     float64\n",
      " 5   time_stamp   int64  \n",
      " 6   action_type  int64  \n",
      " 7   label        float64\n",
      " 8   prob         float64\n",
      "dtypes: float64(3), int64(6)\n",
      "memory usage: 432.0 MB\n"
     ]
    }
   ],
   "source": [
    "user_actions_with_label.info()"
   ]
  },
  {
   "cell_type": "code",
   "execution_count": 53,
   "metadata": {},
   "outputs": [],
   "source": [
    "# 用户x店铺行为计数特征\n",
    "userXmerchant_actions_count = user_actions_with_label[[\"user_id\",\"merchant_id\",\"action_type\"]].groupby([\"user_id\",\"merchant_id\"]).count().reset_index()\n",
    "userXmerchant_actions_count.rename(columns={\"action_type\":\"userXmerchant_actions_count\"},inplace=True)\n",
    "featureAndlabel = pd.merge(featureAndlabel,userXmerchant_actions_count,on=[\"user_id\",\"merchant_id\"],how=\"left\")\n",
    "featureAndlabel[\"userXmerchant_actions_count\"].fillna(0,inplace=True)"
   ]
  },
  {
   "cell_type": "code",
   "execution_count": 54,
   "metadata": {},
   "outputs": [],
   "source": [
    "# 用户x店铺各种行为计数\n",
    "for i in [0, 1, 2, 3]:\n",
    "    temp = user_actions_with_label.loc[user_actions_with_label.action_type == i,[\"user_id\",\"merchant_id\",\"action_type\"]].groupby([\"user_id\",\"merchant_id\"]).count().reset_index()\n",
    "    temp.rename(columns={\"action_type\":\"userXmerchant_action_type\" + str(i) + \"_count\"},inplace=True)\n",
    "    featureAndlabel = pd.merge(featureAndlabel,temp,on=[\"user_id\",\"merchant_id\"],how=\"left\")\n",
    "    featureAndlabel[\"userXmerchant_action_type\" + str(i) + \"_count\"].fillna(0,inplace=True)"
   ]
  },
  {
   "cell_type": "markdown",
   "metadata": {},
   "source": [
    "- 用户x店铺购买行为比例"
   ]
  },
  {
   "cell_type": "code",
   "execution_count": 55,
   "metadata": {},
   "outputs": [],
   "source": [
    "featureAndlabel[\"userXmerchant_purchase_rate\"] = featureAndlabel[\"userXmerchant_action_type2_count\"]/featureAndlabel[\"userXmerchant_actions_count\"]\n",
    "featureAndlabel[\"userXmerchant_purchase_rate\"].fillna(0,inplace=True)"
   ]
  },
  {
   "cell_type": "markdown",
   "metadata": {},
   "source": [
    "- 用户对当前店铺的行为占其行为总数的比例"
   ]
  },
  {
   "cell_type": "code",
   "execution_count": 56,
   "metadata": {},
   "outputs": [],
   "source": [
    "featureAndlabel[\"userXmerchant_actions_fraction\"] = featureAndlabel[\"userXmerchant_actions_count\"]/featureAndlabel[\"user_actions_count\"]\n",
    "featureAndlabel[\"userXmerchant_actions_fraction\"].fillna(0,inplace=True)"
   ]
  },
  {
   "cell_type": "markdown",
   "metadata": {},
   "source": [
    "## 店铺侧特征"
   ]
  },
  {
   "cell_type": "markdown",
   "metadata": {},
   "source": [
    "- 店铺热度"
   ]
  },
  {
   "cell_type": "code",
   "execution_count": 57,
   "metadata": {},
   "outputs": [],
   "source": [
    "# 店铺顾客行为总数\n",
    "merchant_act_count = user_actions[[\"merchant_id\",\"action_type\"]].groupby([\"merchant_id\"]).count().reset_index()\n",
    "merchant_act_count.rename(columns={\"action_type\":\"merchant_act_count\"},inplace=True)\n",
    "featureAndlabel = pd.merge(featureAndlabel,merchant_act_count,on=\"merchant_id\",how=\"left\")\n",
    "featureAndlabel[\"merchant_act_count\"].fillna(0,inplace=True)"
   ]
  },
  {
   "cell_type": "code",
   "execution_count": 58,
   "metadata": {},
   "outputs": [],
   "source": [
    "# 店铺购买行为总数\n",
    "merchant_purchase_rate = user_actions.loc[user_actions.action_type == 2,[\"merchant_id\",\"action_type\"]].groupby([\"merchant_id\"]).count().reset_index()\n",
    "merchant_purchase_rate.rename(columns={\"action_type\":\"merchant_purchase_rate\"},inplace=True)\n",
    "featureAndlabel = pd.merge(featureAndlabel,merchant_purchase_rate,on=\"merchant_id\",how=\"left\")\n",
    "featureAndlabel[\"merchant_purchase_rate\"].fillna(0,inplace=True)"
   ]
  },
  {
   "cell_type": "code",
   "execution_count": 59,
   "metadata": {},
   "outputs": [],
   "source": [
    "# 店铺客流量\n",
    "merchant_user_count = user_actions[[\"merchant_id\",\"user_id\"]].drop_duplicates([\"merchant_id\",\"user_id\"]).groupby([\"merchant_id\"]).count().reset_index()\n",
    "merchant_user_count.rename(columns={\"user_id\":\"merchant_user_count\"},inplace=True)\n",
    "featureAndlabel = pd.merge(featureAndlabel,merchant_user_count,on=\"merchant_id\",how=\"left\")\n",
    "featureAndlabel[\"merchant_user_count\"].fillna(0,inplace=True)"
   ]
  },
  {
   "cell_type": "code",
   "execution_count": 60,
   "metadata": {},
   "outputs": [],
   "source": [
    "# 店铺客户转化数\n",
    "merchant_purchase_user_count = user_actions.loc[user_actions.action_type == 2,[\"merchant_id\",\"user_id\"]].drop_duplicates([\"merchant_id\",\"user_id\"]).groupby([\"merchant_id\"]).count().reset_index()\n",
    "merchant_purchase_user_count.rename(columns={\"user_id\":\"merchant_purchase_user_count\"},inplace=True)\n",
    "featureAndlabel = pd.merge(featureAndlabel,merchant_purchase_user_count,on=\"merchant_id\",how=\"left\")\n",
    "featureAndlabel[\"merchant_purchase_user_count\"].fillna(0,inplace=True)"
   ]
  },
  {
   "cell_type": "code",
   "execution_count": 62,
   "metadata": {},
   "outputs": [
    {
     "name": "stdout",
     "output_type": "stream",
     "text": [
      "<class 'pandas.core.frame.DataFrame'>\n",
      "Int64Index: 522341 entries, 0 to 522340\n",
      "Data columns (total 25 columns):\n",
      " #   Column                            Non-Null Count   Dtype  \n",
      "---  ------                            --------------   -----  \n",
      " 0   user_id                           522341 non-null  int64  \n",
      " 1   merchant_id                       522341 non-null  int64  \n",
      " 2   label                             522341 non-null  float64\n",
      " 3   prob                              0 non-null       float64\n",
      " 4   age_range                         519763 non-null  float64\n",
      " 5   gender                            514796 non-null  float64\n",
      " 6   user_actions_count                522341 non-null  int64  \n",
      " 7   user_action_type0_count           522341 non-null  float64\n",
      " 8   user_action_type1_count           522341 non-null  float64\n",
      " 9   user_action_type2_count           522341 non-null  int64  \n",
      " 10  user_action_type3_count           522341 non-null  float64\n",
      " 11  user_action_nopurchase_count      522341 non-null  float64\n",
      " 12  user_purchase_rate                522341 non-null  float64\n",
      " 13  user_merchant_count               522341 non-null  int64  \n",
      " 14  userXmerchant_actions_count       522341 non-null  int64  \n",
      " 15  userXmerchant_action_type0_count  522341 non-null  float64\n",
      " 16  userXmerchant_action_type1_count  522341 non-null  float64\n",
      " 17  userXmerchant_action_type2_count  522341 non-null  int64  \n",
      " 18  userXmerchant_action_type3_count  522341 non-null  float64\n",
      " 19  userXmerchant_purchase_rate       522341 non-null  float64\n",
      " 20  userXmerchant_actions_fraction    522341 non-null  float64\n",
      " 21  merchant_act_count                522341 non-null  int64  \n",
      " 22  merchant_purchase_rate            522341 non-null  int64  \n",
      " 23  merchant_user_count               522341 non-null  int64  \n",
      " 24  merchant_purchase_user_count      522341 non-null  int64  \n",
      "dtypes: float64(14), int64(11)\n",
      "memory usage: 103.6 MB\n"
     ]
    }
   ],
   "source": [
    "featureAndlabel.info()"
   ]
  },
  {
   "cell_type": "markdown",
   "metadata": {},
   "source": [
    "## 增强版本：行为特征工程"
   ]
  },
  {
   "cell_type": "code",
   "execution_count": 63,
   "metadata": {},
   "outputs": [],
   "source": [
    "y = featureAndlabel.loc[featureAndlabel.label != -1,[\"label\"]]\n",
    "X = featureAndlabel.loc[featureAndlabel.label != -1,:].drop(columns=[\"user_id\",\"merchant_id\",\"label\"])"
   ]
  },
  {
   "cell_type": "code",
   "execution_count": 64,
   "metadata": {},
   "outputs": [],
   "source": [
    "# 分层抽样\n",
    "X_train,X_test,y_train,y_test = train_test_split(X, y, test_size=0.3, stratify=y)"
   ]
  },
  {
   "cell_type": "markdown",
   "metadata": {},
   "source": [
    "- 模型训练"
   ]
  },
  {
   "cell_type": "markdown",
   "metadata": {},
   "source": [
    "- lightGBM gbdt提升树分类"
   ]
  },
  {
   "cell_type": "code",
   "execution_count": 65,
   "metadata": {},
   "outputs": [
    {
     "name": "stderr",
     "output_type": "stream",
     "text": [
      "D:\\ProgramData\\Anaconda3\\lib\\site-packages\\sklearn\\preprocessing\\_label.py:235: DataConversionWarning: A column-vector y was passed when a 1d array was expected. Please change the shape of y to (n_samples, ), for example using ravel().\n",
      "  y = column_or_1d(y, warn=True)\n",
      "D:\\ProgramData\\Anaconda3\\lib\\site-packages\\sklearn\\preprocessing\\_label.py:268: DataConversionWarning: A column-vector y was passed when a 1d array was expected. Please change the shape of y to (n_samples, ), for example using ravel().\n",
      "  y = column_or_1d(y, warn=True)\n"
     ]
    },
    {
     "data": {
      "text/plain": [
       "LGBMClassifier(boosting_type='gbdt', class_weight=None, colsample_bytree=1.0,\n",
       "               importance_type='split', learning_rate=0.1, max_depth=-1,\n",
       "               min_child_samples=20, min_child_weight=0.001, min_split_gain=0.0,\n",
       "               n_estimators=100, n_jobs=-1, num_leaves=31, objective=None,\n",
       "               random_state=None, reg_alpha=0.0, reg_lambda=0.0, silent=True,\n",
       "               subsample=1.0, subsample_for_bin=200000, subsample_freq=0)"
      ]
     },
     "execution_count": 65,
     "metadata": {},
     "output_type": "execute_result"
    }
   ],
   "source": [
    "gbm = lgb.LGBMClassifier()\n",
    "gbm.fit(X_train,y_train)"
   ]
  },
  {
   "cell_type": "markdown",
   "metadata": {},
   "source": [
    "- 模型评估：由于样本不均衡，使用auc进行评估"
   ]
  },
  {
   "cell_type": "code",
   "execution_count": 66,
   "metadata": {},
   "outputs": [
    {
     "data": {
      "text/plain": [
       "0.6552950166178788"
      ]
     },
     "execution_count": 66,
     "metadata": {},
     "output_type": "execute_result"
    }
   ],
   "source": [
    "# 验证集auc\n",
    "y_test_prob = gbm.predict_proba(X_test)[:,1]\n",
    "from sklearn.metrics import roc_auc_score\n",
    "roc_auc_score(y_test,y_test_prob)"
   ]
  },
  {
   "cell_type": "code",
   "execution_count": 67,
   "metadata": {},
   "outputs": [
    {
     "data": {
      "text/plain": [
       "0.7395059857772662"
      ]
     },
     "execution_count": 67,
     "metadata": {},
     "output_type": "execute_result"
    }
   ],
   "source": [
    "# 训练集auc\n",
    "y_test_prob = gbm.predict_proba(X_train)[:,1]\n",
    "roc_auc_score(y_train,y_test_prob)"
   ]
  },
  {
   "cell_type": "markdown",
   "metadata": {},
   "source": [
    "- 可能有过拟合现象，调参"
   ]
  },
  {
   "cell_type": "markdown",
   "metadata": {},
   "source": [
    "#### 学习率和迭代次数"
   ]
  },
  {
   "cell_type": "code",
   "execution_count": 43,
   "metadata": {},
   "outputs": [],
   "source": [
    "params = {\n",
    "    \"boosting_type\":\"gbdt\",\n",
    "    \"objective\":\"binary\",\n",
    "    \"metric\":\"auc\",\n",
    "    \"ntheard\": 8,\n",
    "    \"learning_rate\":0.1,\n",
    "    \"num_leaves\":30,\n",
    "    \"max_depth\":5,\n",
    "    \"subsample\":0.8,\n",
    "    \"colsample_bytree\":0.8    \n",
    "}\n",
    "data_train = lgb.Dataset(X_train.values,y_train.values)\n",
    "cv_result = lgb.cv(params, data_train, num_boost_round=1000, nfold=5, stratified=True, metrics=\"auc\", early_stopping_rounds=100, seed=0, shuffle=True)"
   ]
  },
  {
   "cell_type": "code",
   "execution_count": 46,
   "metadata": {},
   "outputs": [
    {
     "name": "stdout",
     "output_type": "stream",
     "text": [
      "最优迭代轮次：161\n",
      "最优auc-score:0.6571137569389685\n"
     ]
    }
   ],
   "source": [
    "print(\"最优迭代轮次：\" + str(len(cv_result[\"auc-mean\"])))\n",
    "print(\"最优auc-score:\" + str(max(cv_result[\"auc-mean\"])))"
   ]
  },
  {
   "cell_type": "markdown",
   "metadata": {},
   "source": [
    "#### max_depth和num_leaves"
   ]
  },
  {
   "cell_type": "code",
   "execution_count": 51,
   "metadata": {},
   "outputs": [
    {
     "data": {
      "text/plain": [
       "GridSearchCV(cv=StratifiedKFold(n_splits=5, random_state=None, shuffle=True),\n",
       "             error_score=nan,\n",
       "             estimator=LGBMClassifier(bagging_fraction=0.8,\n",
       "                                      boosting_type='gbdt', class_weight=None,\n",
       "                                      colsample_bytree=1.0,\n",
       "                                      feature_fraction=0.8,\n",
       "                                      importance_type='split',\n",
       "                                      learning_rate=0.1, max_depth=-1,\n",
       "                                      metrics='auc', min_child_samples=20,\n",
       "                                      min_child_weight=0.001,\n",
       "                                      min_split_gain=0.0,...imators=188,\n",
       "                                      n_jobs=-1, num_leaves=31,\n",
       "                                      objective='binary', random_state=None,\n",
       "                                      reg_alpha=0.0, reg_lambda=0.0,\n",
       "                                      silent=True, subsample=1.0,\n",
       "                                      subsample_for_bin=200000,\n",
       "                                      subsample_freq=0),\n",
       "             iid='deprecated', n_jobs=-1,\n",
       "             param_grid={'max_depth': range(3, 8),\n",
       "                         'num_leaves': range(5, 100, 5)},\n",
       "             pre_dispatch='2*n_jobs', refit=True, return_train_score=False,\n",
       "             scoring='roc_auc', verbose=0)"
      ]
     },
     "execution_count": 51,
     "metadata": {},
     "output_type": "execute_result"
    }
   ],
   "source": [
    "params_maxdepthAnumleaves = {\n",
    "    \"max_depth\":range(3,8,1),\n",
    "    \"num_leaves\":range(5,100,5)\n",
    "}\n",
    "skf = StratifiedKFold(n_splits=5,shuffle=True)\n",
    "gsearch1 = GridSearchCV(estimator=lgb.LGBMClassifier(boosting_type=\"gbdt\",objective=\"binary\",metrics=\"auc\",learning_rate=0.1, n_estimators=188, bagging_fraction=0.8, feature_fraction = 0.8),\n",
    "                       param_grid=params_maxdepthAnumleaves, scoring=\"roc_auc\", cv=skf, n_jobs=-1)\n",
    "gsearch1.fit(X_train,y_train)"
   ]
  },
  {
   "cell_type": "code",
   "execution_count": 52,
   "metadata": {},
   "outputs": [
    {
     "data": {
      "text/plain": [
       "({'max_depth': 5, 'num_leaves': 15}, 0.6587682574967324)"
      ]
     },
     "execution_count": 52,
     "metadata": {},
     "output_type": "execute_result"
    }
   ],
   "source": [
    "gsearch1.best_params_, gsearch1.best_score_"
   ]
  },
  {
   "cell_type": "markdown",
   "metadata": {},
   "source": [
    "#### min_data_in_leaf和max_bin"
   ]
  },
  {
   "cell_type": "code",
   "execution_count": 57,
   "metadata": {},
   "outputs": [
    {
     "data": {
      "text/plain": [
       "GridSearchCV(cv=StratifiedKFold(n_splits=5, random_state=None, shuffle=True),\n",
       "             error_score=nan,\n",
       "             estimator=LGBMClassifier(bagging_fraction=0.8,\n",
       "                                      boosting_type='gbdt', class_weight=None,\n",
       "                                      colsample_bytree=1.0,\n",
       "                                      feature_fraction=0.8,\n",
       "                                      importance_type='split',\n",
       "                                      learning_rate=0.1, max_depth=5,\n",
       "                                      metrics='auc', min_child_samples=20,\n",
       "                                      min_child_weight=0.001,\n",
       "                                      min_split_gain=0.0, n...\n",
       "                                      n_jobs=-1, num_leaves=15,\n",
       "                                      objective='binary', random_state=None,\n",
       "                                      reg_alpha=0.0, reg_lambda=0.0,\n",
       "                                      silent=True, subsample=1.0,\n",
       "                                      subsample_for_bin=200000,\n",
       "                                      subsample_freq=0),\n",
       "             iid='deprecated', n_jobs=-1,\n",
       "             param_grid={'max_bin': range(5, 256, 10),\n",
       "                         'min_data_in_leaf': range(201, 301, 10)},\n",
       "             pre_dispatch='2*n_jobs', refit=True, return_train_score=False,\n",
       "             scoring='roc_auc', verbose=0)"
      ]
     },
     "execution_count": 57,
     "metadata": {},
     "output_type": "execute_result"
    }
   ],
   "source": [
    "params_mindatainleafAmaxbin = {\n",
    "    \"min_data_in_leaf\":range(201,301,10),\n",
    "    \"max_bin\":range(5,256,10)\n",
    "}\n",
    "gsearch2 = GridSearchCV(estimator=lgb.LGBMClassifier(boosting_type=\"gbdt\",\n",
    "                                                    objective=\"binary\",\n",
    "                                                    max_depth=5,\n",
    "                                                    num_leaves=15,\n",
    "                                                    metrics=\"auc\",\n",
    "                                                    learning_rate=0.1,\n",
    "                                                    n_estimators=161,\n",
    "                                                    bagging_fraction=0.8,\n",
    "                                                    feature_fraction=0.8),\n",
    "                        param_grid=params_mindatainleafAmaxbin,\n",
    "                        cv=skf,\n",
    "                        n_jobs=-1,\n",
    "                        scoring=\"roc_auc\")\n",
    "gsearch2.fit(X_train,y_train)"
   ]
  },
  {
   "cell_type": "code",
   "execution_count": 58,
   "metadata": {},
   "outputs": [
    {
     "data": {
      "text/plain": [
       "({'max_bin': 245, 'min_data_in_leaf': 261},\n",
       " 0.6595017328896366,\n",
       " LGBMClassifier(bagging_fraction=0.8, boosting_type='gbdt', class_weight=None,\n",
       "                colsample_bytree=1.0, feature_fraction=0.8,\n",
       "                importance_type='split', learning_rate=0.1, max_bin=245,\n",
       "                max_depth=5, metrics='auc', min_child_samples=20,\n",
       "                min_child_weight=0.001, min_data_in_leaf=261, min_split_gain=0.0,\n",
       "                n_estimators=161, n_jobs=-1, num_leaves=15, objective='binary',\n",
       "                random_state=None, reg_alpha=0.0, reg_lambda=0.0, silent=True,\n",
       "                subsample=1.0, subsample_for_bin=200000, subsample_freq=0))"
      ]
     },
     "execution_count": 58,
     "metadata": {},
     "output_type": "execute_result"
    }
   ],
   "source": [
    "gsearch2.best_params_, gsearch2.best_score_, gsearch2.best_estimator_"
   ]
  },
  {
   "cell_type": "markdown",
   "metadata": {},
   "source": [
    "#### feature_fraction(特征抽样比例),bagging_fraction(样本抽样比例),bagging_freq"
   ]
  },
  {
   "cell_type": "code",
   "execution_count": 59,
   "metadata": {},
   "outputs": [
    {
     "data": {
      "text/plain": [
       "GridSearchCV(cv=StratifiedKFold(n_splits=5, random_state=None, shuffle=True),\n",
       "             error_score=nan,\n",
       "             estimator=LGBMClassifier(bagging_fraction=0.8,\n",
       "                                      boosting_type='gbdt', class_weight=None,\n",
       "                                      colsample_bytree=1.0,\n",
       "                                      feature_fraction=0.8,\n",
       "                                      importance_type='split',\n",
       "                                      learning_rate=0.1, max_bin=245,\n",
       "                                      max_depth=5, metrics='auc',\n",
       "                                      min_child_samples=20,\n",
       "                                      min_child_weight=0.001,\n",
       "                                      min_data...\n",
       "                                      random_state=None, reg_alpha=0.0,\n",
       "                                      reg_lambda=0.0, silent=True,\n",
       "                                      subsample=1.0, subsample_for_bin=200000,\n",
       "                                      subsample_freq=0),\n",
       "             iid='deprecated', n_jobs=None,\n",
       "             param_grid={'bagging_fraction': [0.6, 0.7, 0.8, 0.9, 1.0],\n",
       "                         'bagging_freq': range(0, 81, 10),\n",
       "                         'feature_fraction': [0.6, 0.7, 0.8, 0.9, 1.0]},\n",
       "             pre_dispatch='2*n_jobs', refit=True, return_train_score=False,\n",
       "             scoring='roc_auc', verbose=0)"
      ]
     },
     "execution_count": 59,
     "metadata": {},
     "output_type": "execute_result"
    }
   ],
   "source": [
    "params_test3 = {\n",
    "    \"feature_fraction\":[0.6,0.7,0.8,0.9,1.0],\n",
    "    \"bagging_fraction\":[0.6,0.7,0.8,0.9,1.0],\n",
    "    \"bagging_freq\":range(0,81,10)\n",
    "}\n",
    "\n",
    "gsearch3 = GridSearchCV(estimator=lgb.LGBMClassifier(bagging_fraction=0.8, boosting_type='gbdt', class_weight=None,\n",
    "                colsample_bytree=1.0, feature_fraction=0.8,\n",
    "                importance_type='split', learning_rate=0.1, max_bin=245,\n",
    "                max_depth=5, metrics='auc', min_child_samples=20,\n",
    "                min_child_weight=0.001, min_data_in_leaf=261, min_split_gain=0.0,\n",
    "                n_estimators=161, n_jobs=-1, num_leaves=15, objective='binary',\n",
    "                random_state=None, reg_alpha=0.0, reg_lambda=0.0, silent=True,\n",
    "                subsample=1.0, subsample_for_bin=200000, subsample_freq=0),\n",
    "                       param_grid=params_test3,\n",
    "                       cv=skf,\n",
    "                       scoring=\"roc_auc\")\n",
    "gsearch3.fit(X_train,y_train)"
   ]
  },
  {
   "cell_type": "code",
   "execution_count": 60,
   "metadata": {},
   "outputs": [
    {
     "data": {
      "text/plain": [
       "({'bagging_fraction': 0.6, 'bagging_freq': 0, 'feature_fraction': 0.7},\n",
       " 0.658539233770839,\n",
       " LGBMClassifier(bagging_fraction=0.6, bagging_freq=0, boosting_type='gbdt',\n",
       "                class_weight=None, colsample_bytree=1.0, feature_fraction=0.7,\n",
       "                importance_type='split', learning_rate=0.1, max_bin=245,\n",
       "                max_depth=5, metrics='auc', min_child_samples=20,\n",
       "                min_child_weight=0.001, min_data_in_leaf=261, min_split_gain=0.0,\n",
       "                n_estimators=161, n_jobs=-1, num_leaves=15, objective='binary',\n",
       "                random_state=None, reg_alpha=0.0, reg_lambda=0.0, silent=True,\n",
       "                subsample=1.0, subsample_for_bin=200000, subsample_freq=0))"
      ]
     },
     "execution_count": 60,
     "metadata": {},
     "output_type": "execute_result"
    }
   ],
   "source": [
    "gsearch3.best_params_, gsearch3.best_score_, gsearch3.best_estimator_"
   ]
  },
  {
   "cell_type": "markdown",
   "metadata": {},
   "source": [
    "#### lambda_l1和lambda_l2"
   ]
  },
  {
   "cell_type": "code",
   "execution_count": 61,
   "metadata": {},
   "outputs": [
    {
     "data": {
      "text/plain": [
       "GridSearchCV(cv=StratifiedKFold(n_splits=5, random_state=None, shuffle=True),\n",
       "             error_score=nan,\n",
       "             estimator=LGBMClassifier(bagging_fraction=0.6, bagging_freq=0,\n",
       "                                      boosting_type='gbdt', class_weight=None,\n",
       "                                      colsample_bytree=1.0,\n",
       "                                      feature_fraction=0.7,\n",
       "                                      importance_type='split',\n",
       "                                      learning_rate=0.1, max_bin=245,\n",
       "                                      max_depth=5, metrics='auc',\n",
       "                                      min_child_samples=20,\n",
       "                                      min_child_weight...\n",
       "                                      random_state=None, reg_alpha=0.0,\n",
       "                                      reg_lambda=0.0, silent=True,\n",
       "                                      subsample=1.0, subsample_for_bin=200000,\n",
       "                                      subsample_freq=0),\n",
       "             iid='deprecated', n_jobs=-1,\n",
       "             param_grid={'lambda_l1': [1e-05, 0.001, 0.1, 0.0, 0.1, 0.3, 0.5,\n",
       "                                       0.7, 0.9, 1.0],\n",
       "                         'lambda_l2': [1e-05, 0.001, 0.1, 0.0, 0.1, 0.3, 0.5,\n",
       "                                       0.7, 0.9, 1.0]},\n",
       "             pre_dispatch='2*n_jobs', refit=True, return_train_score=False,\n",
       "             scoring='roc_auc', verbose=0)"
      ]
     },
     "execution_count": 61,
     "metadata": {},
     "output_type": "execute_result"
    }
   ],
   "source": [
    "params_test4={\n",
    "    \"lambda_l1\":[1e-5,1e-3,1e-1,0.0,0.1,0.3,0.5,0.7,0.9,1.0],\n",
    "    \"lambda_l2\":[1e-5,1e-3,1e-1,0.0,0.1,0.3,0.5,0.7,0.9,1.0]\n",
    "}\n",
    "\n",
    "gsearch4 = GridSearchCV(estimator=lgb. LGBMClassifier(bagging_fraction=0.6, bagging_freq=0, boosting_type='gbdt',\n",
    "                class_weight=None, colsample_bytree=1.0, feature_fraction=0.7,\n",
    "                importance_type='split', learning_rate=0.1, max_bin=245,\n",
    "                max_depth=5, metrics='auc', min_child_samples=20,\n",
    "                min_child_weight=0.001, min_data_in_leaf=261, min_split_gain=0.0,\n",
    "                n_estimators=161, n_jobs=-1, num_leaves=15, objective='binary',\n",
    "                random_state=None, reg_alpha=0.0, reg_lambda=0.0, silent=True,\n",
    "                subsample=1.0, subsample_for_bin=200000, subsample_freq=0),\n",
    "                       param_grid=params_test4,\n",
    "                       scoring=\"roc_auc\",\n",
    "                       cv=skf,\n",
    "                       n_jobs=-1)\n",
    "\n",
    "gsearch4.fit(X_train,y_train)"
   ]
  },
  {
   "cell_type": "code",
   "execution_count": 62,
   "metadata": {},
   "outputs": [
    {
     "data": {
      "text/plain": [
       "({'lambda_l1': 0.9, 'lambda_l2': 0.5},\n",
       " 0.6607016395347521,\n",
       " LGBMClassifier(bagging_fraction=0.6, bagging_freq=0, boosting_type='gbdt',\n",
       "                class_weight=None, colsample_bytree=1.0, feature_fraction=0.7,\n",
       "                importance_type='split', lambda_l1=0.9, lambda_l2=0.5,\n",
       "                learning_rate=0.1, max_bin=245, max_depth=5, metrics='auc',\n",
       "                min_child_samples=20, min_child_weight=0.001,\n",
       "                min_data_in_leaf=261, min_split_gain=0.0, n_estimators=161,\n",
       "                n_jobs=-1, num_leaves=15, objective='binary', random_state=None,\n",
       "                reg_alpha=0.0, reg_lambda=0.0, silent=True, subsample=1.0,\n",
       "                subsample_for_bin=200000, subsample_freq=0))"
      ]
     },
     "execution_count": 62,
     "metadata": {},
     "output_type": "execute_result"
    }
   ],
   "source": [
    "gsearch4.best_params_, gsearch4.best_score_, gsearch4.best_estimator_"
   ]
  },
  {
   "cell_type": "markdown",
   "metadata": {},
   "source": [
    "#### min_split_gain"
   ]
  },
  {
   "cell_type": "code",
   "execution_count": 65,
   "metadata": {},
   "outputs": [
    {
     "data": {
      "text/plain": [
       "GridSearchCV(cv=StratifiedKFold(n_splits=5, random_state=None, shuffle=True),\n",
       "             error_score=nan,\n",
       "             estimator=LGBMClassifier(bagging_fraction=0.6, bagging_freq=0,\n",
       "                                      boosting_type='gbdt', class_weight=None,\n",
       "                                      colsample_bytree=1.0,\n",
       "                                      feature_fraction=0.7,\n",
       "                                      importance_type='split', lambda_l1=0.9,\n",
       "                                      lambda_l2=0.5, learning_rate=0.1,\n",
       "                                      max_bin=245, max_depth=5, metrics='auc',\n",
       "                                      min_child...\n",
       "                                      n_estimators=161, n_jobs=-1,\n",
       "                                      num_leaves=15, objective='binary',\n",
       "                                      random_state=None, reg_alpha=0.0,\n",
       "                                      reg_lambda=0.0, silent=True,\n",
       "                                      subsample=1.0, subsample_for_bin=200000,\n",
       "                                      subsample_freq=0),\n",
       "             iid='deprecated', n_jobs=-1,\n",
       "             param_grid={'min_split_gain': [0.0, 0.1, 0.2, 0.3, 0.4, 0.5, 0.6,\n",
       "                                            0.7, 0.8, 0.9, 1.0]},\n",
       "             pre_dispatch='2*n_jobs', refit=True, return_train_score=False,\n",
       "             scoring='roc_auc', verbose=0)"
      ]
     },
     "execution_count": 65,
     "metadata": {},
     "output_type": "execute_result"
    }
   ],
   "source": [
    "params_test5 = {\n",
    "    \"min_split_gain\":[0.0,.1,.2,.3,.4,.5,.6,.7,.8,.9,1.0]\n",
    "}\n",
    "\n",
    "gsearch5 = GridSearchCV(estimator=lgb.LGBMClassifier(bagging_fraction=0.6, bagging_freq=0, boosting_type='gbdt',\n",
    "                class_weight=None, colsample_bytree=1.0, feature_fraction=0.7,\n",
    "                importance_type='split', lambda_l1=0.9, lambda_l2=0.5,\n",
    "                learning_rate=0.1, max_bin=245, max_depth=5, metrics='auc',\n",
    "                min_child_samples=20, min_child_weight=0.001,\n",
    "                min_data_in_leaf=261, min_split_gain=0.0, n_estimators=161,\n",
    "                n_jobs=-1, num_leaves=15, objective='binary', random_state=None,\n",
    "                reg_alpha=0.0, reg_lambda=0.0, silent=True, subsample=1.0,\n",
    "                subsample_for_bin=200000, subsample_freq=0),\n",
    "                       param_grid=params_test5,\n",
    "                       scoring=\"roc_auc\",\n",
    "                       cv=skf,\n",
    "                       n_jobs=-1)\n",
    "gsearch5.fit(X_train,y_train)"
   ]
  },
  {
   "cell_type": "code",
   "execution_count": 66,
   "metadata": {},
   "outputs": [
    {
     "data": {
      "text/plain": [
       "({'min_split_gain': 0.4},\n",
       " 0.6591248418939999,\n",
       " LGBMClassifier(bagging_fraction=0.6, bagging_freq=0, boosting_type='gbdt',\n",
       "                class_weight=None, colsample_bytree=1.0, feature_fraction=0.7,\n",
       "                importance_type='split', lambda_l1=0.9, lambda_l2=0.5,\n",
       "                learning_rate=0.1, max_bin=245, max_depth=5, metrics='auc',\n",
       "                min_child_samples=20, min_child_weight=0.001,\n",
       "                min_data_in_leaf=261, min_split_gain=0.4, n_estimators=161,\n",
       "                n_jobs=-1, num_leaves=15, objective='binary', random_state=None,\n",
       "                reg_alpha=0.0, reg_lambda=0.0, silent=True, subsample=1.0,\n",
       "                subsample_for_bin=200000, subsample_freq=0))"
      ]
     },
     "execution_count": 66,
     "metadata": {},
     "output_type": "execute_result"
    }
   ],
   "source": [
    "gsearch5.best_params_, gsearch5.best_score_, gsearch5.best_estimator_"
   ]
  },
  {
   "cell_type": "markdown",
   "metadata": {},
   "source": [
    "#### 降低学习率，增加迭代次数，验证模型"
   ]
  },
  {
   "cell_type": "code",
   "execution_count": 67,
   "metadata": {},
   "outputs": [
    {
     "data": {
      "text/plain": [
       "LGBMClassifier(bagging_fraction=0.6, bagging_freq=0, boosting_type='gbdt',\n",
       "               class_weight=None, colsample_bytree=1.0, feature_fraction=0.7,\n",
       "               importance_type='split', lambda_l1=0.9, lambda_l2=0.5,\n",
       "               learning_rate=0.01, max_bin=245, max_depth=5, metrics='auc',\n",
       "               min_child_samples=20, min_child_weight=0.001,\n",
       "               min_data_in_leaf=261, min_split_gain=0.4, n_estimators=2000,\n",
       "               n_jobs=-1, num_leaves=15, objective='binary', random_state=None,\n",
       "               reg_alpha=0.0, reg_lambda=0.0, silent=True, subsample=1.0,\n",
       "               subsample_for_bin=200000, subsample_freq=0)"
      ]
     },
     "execution_count": 67,
     "metadata": {},
     "output_type": "execute_result"
    }
   ],
   "source": [
    "model = lgb.LGBMClassifier(bagging_fraction=0.6, bagging_freq=0, boosting_type='gbdt',\n",
    "                class_weight=None, colsample_bytree=1.0, feature_fraction=0.7,\n",
    "                importance_type='split', lambda_l1=0.9, lambda_l2=0.5,\n",
    "                learning_rate=0.01, max_bin=245, max_depth=5, metrics='auc',\n",
    "                min_child_samples=20, min_child_weight=0.001,\n",
    "                min_data_in_leaf=261, min_split_gain=0.4, n_estimators=2000,\n",
    "                n_jobs=-1, num_leaves=15, objective='binary', random_state=None,\n",
    "                reg_alpha=0.0, reg_lambda=0.0, silent=True, subsample=1.0,\n",
    "                subsample_for_bin=200000, subsample_freq=0)\n",
    "model.fit(X_train,y_train)"
   ]
  },
  {
   "cell_type": "markdown",
   "metadata": {},
   "source": [
    "#### 计算auc"
   ]
  },
  {
   "cell_type": "code",
   "execution_count": 68,
   "metadata": {},
   "outputs": [
    {
     "data": {
      "text/plain": [
       "0.6705468590900265"
      ]
     },
     "execution_count": 68,
     "metadata": {},
     "output_type": "execute_result"
    }
   ],
   "source": [
    "y_test_pro_pred = model.predict_proba(X_test)[:,1]\n",
    "roc_auc_score(y_test, y_test_pro_pred)"
   ]
  },
  {
   "cell_type": "markdown",
   "metadata": {},
   "source": [
    "- 特征重要度"
   ]
  },
  {
   "cell_type": "code",
   "execution_count": 71,
   "metadata": {},
   "outputs": [
    {
     "data": {
      "text/plain": [
       "<matplotlib.axes._subplots.AxesSubplot at 0x2590e08e5c8>"
      ]
     },
     "execution_count": 71,
     "metadata": {},
     "output_type": "execute_result"
    },
    {
     "data": {
      "image/png": "[encoded data removed]",
      "text/plain": [
       "<Figure size 1152x576 with 1 Axes>"
      ]
     },
     "metadata": {
      "needs_background": "light"
     },
     "output_type": "display_data"
    }
   ],
   "source": [
    "feature_importances = gbm.feature_importances_\n",
    "feature_importances = pd.Series(feature_importances,index=X_train.columns)\n",
    "from matplotlib.pylab import rcParams\n",
    "rcParams['figure.figsize'] = 16, 8\n",
    "feature_importances.sort_values().plot(kind=\"bar\")"
   ]
  },
  {
   "cell_type": "markdown",
   "metadata": {},
   "source": [
    "#### 使用最优的模型&全量数据训练产出结果"
   ]
  },
  {
   "cell_type": "code",
   "execution_count": 68,
   "metadata": {},
   "outputs": [
    {
     "name": "stderr",
     "output_type": "stream",
     "text": [
      "D:\\ProgramData\\Anaconda3\\lib\\site-packages\\sklearn\\preprocessing\\_label.py:235: DataConversionWarning: A column-vector y was passed when a 1d array was expected. Please change the shape of y to (n_samples, ), for example using ravel().\n",
      "  y = column_or_1d(y, warn=True)\n",
      "D:\\ProgramData\\Anaconda3\\lib\\site-packages\\sklearn\\preprocessing\\_label.py:268: DataConversionWarning: A column-vector y was passed when a 1d array was expected. Please change the shape of y to (n_samples, ), for example using ravel().\n",
      "  y = column_or_1d(y, warn=True)\n"
     ]
    },
    {
     "data": {
      "text/plain": [
       "LGBMClassifier(bagging_fraction=0.6, bagging_freq=0, boosting_type='gbdt',\n",
       "               class_weight=None, colsample_bytree=1.0, feature_fraction=0.7,\n",
       "               importance_type='split', lambda_l1=0.9, lambda_l2=0.5,\n",
       "               learning_rate=0.01, max_bin=245, max_depth=5, metrics='auc',\n",
       "               min_child_samples=20, min_child_weight=0.001,\n",
       "               min_data_in_leaf=261, min_split_gain=0.4, n_estimators=2000,\n",
       "               n_jobs=-1, num_leaves=15, objective='binary', random_state=None,\n",
       "               reg_alpha=0.0, reg_lambda=0.0, silent=True, subsample=1.0,\n",
       "               subsample_for_bin=200000, subsample_freq=0)"
      ]
     },
     "execution_count": 68,
     "metadata": {},
     "output_type": "execute_result"
    }
   ],
   "source": [
    "model = lgb.LGBMClassifier(bagging_fraction=0.6, bagging_freq=0, boosting_type='gbdt',\n",
    "                class_weight=None, colsample_bytree=1.0, feature_fraction=0.7,\n",
    "                importance_type='split', lambda_l1=0.9, lambda_l2=0.5,\n",
    "                learning_rate=0.01, max_bin=245, max_depth=5, metrics='auc',\n",
    "                min_child_samples=20, min_child_weight=0.001,\n",
    "                min_data_in_leaf=261, min_split_gain=0.4, n_estimators=2000,\n",
    "                n_jobs=-1, num_leaves=15, objective='binary', random_state=None,\n",
    "                reg_alpha=0.0, reg_lambda=0.0, silent=True, subsample=1.0,\n",
    "                subsample_for_bin=200000, subsample_freq=0)\n",
    "model.fit(X,y)"
   ]
  },
  {
   "cell_type": "code",
   "execution_count": 70,
   "metadata": {},
   "outputs": [
    {
     "data": {
      "text/html": [
       "<div>\n",
       "<style scoped>\n",
       "    .dataframe tbody tr th:only-of-type {\n",
       "        vertical-align: middle;\n",
       "    }\n",
       "\n",
       "    .dataframe tbody tr th {\n",
       "        vertical-align: top;\n",
       "    }\n",
       "\n",
       "    .dataframe thead th {\n",
       "        text-align: right;\n",
       "    }\n",
       "</style>\n",
       "<table border=\"1\" class=\"dataframe\">\n",
       "  <thead>\n",
       "    <tr style=\"text-align: right;\">\n",
       "      <th></th>\n",
       "      <th>user_id</th>\n",
       "      <th>merchant_id</th>\n",
       "      <th>prob</th>\n",
       "    </tr>\n",
       "  </thead>\n",
       "  <tbody>\n",
       "    <tr>\n",
       "      <th>260864</th>\n",
       "      <td>163968</td>\n",
       "      <td>4605</td>\n",
       "      <td>0.055125</td>\n",
       "    </tr>\n",
       "    <tr>\n",
       "      <th>260865</th>\n",
       "      <td>360576</td>\n",
       "      <td>1581</td>\n",
       "      <td>0.077502</td>\n",
       "    </tr>\n",
       "    <tr>\n",
       "      <th>260866</th>\n",
       "      <td>98688</td>\n",
       "      <td>1964</td>\n",
       "      <td>0.058962</td>\n",
       "    </tr>\n",
       "    <tr>\n",
       "      <th>260867</th>\n",
       "      <td>98688</td>\n",
       "      <td>3645</td>\n",
       "      <td>0.047409</td>\n",
       "    </tr>\n",
       "    <tr>\n",
       "      <th>260868</th>\n",
       "      <td>295296</td>\n",
       "      <td>3361</td>\n",
       "      <td>0.078730</td>\n",
       "    </tr>\n",
       "    <tr>\n",
       "      <th>...</th>\n",
       "      <td>...</td>\n",
       "      <td>...</td>\n",
       "      <td>...</td>\n",
       "    </tr>\n",
       "    <tr>\n",
       "      <th>522336</th>\n",
       "      <td>228479</td>\n",
       "      <td>3111</td>\n",
       "      <td>0.047623</td>\n",
       "    </tr>\n",
       "    <tr>\n",
       "      <th>522337</th>\n",
       "      <td>97919</td>\n",
       "      <td>2341</td>\n",
       "      <td>0.039239</td>\n",
       "    </tr>\n",
       "    <tr>\n",
       "      <th>522338</th>\n",
       "      <td>97919</td>\n",
       "      <td>3971</td>\n",
       "      <td>0.112432</td>\n",
       "    </tr>\n",
       "    <tr>\n",
       "      <th>522339</th>\n",
       "      <td>32639</td>\n",
       "      <td>3536</td>\n",
       "      <td>0.043264</td>\n",
       "    </tr>\n",
       "    <tr>\n",
       "      <th>522340</th>\n",
       "      <td>32639</td>\n",
       "      <td>3319</td>\n",
       "      <td>0.091174</td>\n",
       "    </tr>\n",
       "  </tbody>\n",
       "</table>\n",
       "<p>261477 rows × 3 columns</p>\n",
       "</div>"
      ],
      "text/plain": [
       "        user_id  merchant_id      prob\n",
       "260864   163968         4605  0.055125\n",
       "260865   360576         1581  0.077502\n",
       "260866    98688         1964  0.058962\n",
       "260867    98688         3645  0.047409\n",
       "260868   295296         3361  0.078730\n",
       "...         ...          ...       ...\n",
       "522336   228479         3111  0.047623\n",
       "522337    97919         2341  0.039239\n",
       "522338    97919         3971  0.112432\n",
       "522339    32639         3536  0.043264\n",
       "522340    32639         3319  0.091174\n",
       "\n",
       "[261477 rows x 3 columns]"
      ]
     },
     "execution_count": 70,
     "metadata": {},
     "output_type": "execute_result"
    }
   ],
   "source": [
    "submit_X = featureAndlabel.loc[featureAndlabel.label == -1,:].drop(columns=[\"user_id\",\"merchant_id\",\"label\"]).values\n",
    "res = featureAndlabel.loc[featureAndlabel.label == -1,[\"user_id\",\"merchant_id\"]]\n",
    "res[\"prob\"] = model.predict_proba(submit_X)[:,1]\n",
    "res"
   ]
  },
  {
   "cell_type": "code",
   "execution_count": 79,
   "metadata": {},
   "outputs": [],
   "source": [
    "res.to_csv(\"./res/prediction.csv\",index=False,header=True)"
   ]
  }
 ],
 "metadata": {
  "kernelspec": {
   "display_name": "Python 3",
   "language": "python",
   "name": "python3"
  },
  "language_info": {
   "codemirror_mode": {
    "name": "ipython",
    "version": 3
   },
   "file_extension": ".py",
   "mimetype": "text/x-python",
   "name": "python",
   "nbconvert_exporter": "python",
   "pygments_lexer": "ipython3",
   "version": "3.7.6"
  }
 },
 "nbformat": 4,
 "nbformat_minor": 4
}
